{
 "cells": [
  {
   "cell_type": "code",
   "execution_count": 1,
   "id": "21a44870-2473-47ce-b3aa-d8fc473b2a7e",
   "metadata": {},
   "outputs": [
    {
     "name": "stdout",
     "output_type": "stream",
     "text": [
      "voici la premiere version de mon application\n",
      "\n",
      "moyen : 1500\n"
     ]
    }
   ],
   "source": [
    "# version \n",
    "print (\"voici la trosième version de mon application\")\n",
    "print (\"\")\n",
    "print (\"moyen : 2500\")"
   ]
  },
  {
   "cell_type": "code",
   "execution_count": null,
   "id": "41023a21-c2ea-4da6-b706-11e13efdd372",
   "metadata": {},
   "outputs": [],
   "source": []
  }
 ],
 "metadata": {
  "kernelspec": {
   "display_name": "Python 3 (ipykernel)",
   "language": "python",
   "name": "python3"
  },
  "language_info": {
   "codemirror_mode": {
    "name": "ipython",
    "version": 3
   },
   "file_extension": ".py",
   "mimetype": "text/x-python",
   "name": "python",
   "nbconvert_exporter": "python",
   "pygments_lexer": "ipython3",
   "version": "3.11.7"
  }
 },
 "nbformat": 4,
 "nbformat_minor": 5
}
